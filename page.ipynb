{
 "cells": [
  {
   "cell_type": "code",
   "execution_count": 1,
   "metadata": {
    "_cell_guid": "73c46801-7f23-67a2-47e8-03256085f659",
    "collapsed": false
   },
   "outputs": [],
   "source": [
    "import numpy as np # linear algebra\n",
    "import pandas as pd # data processing, CSV file I/O (e.g. pd.read_csv)\n",
    "from subprocess import check_output"
   ]
  },
  {
   "cell_type": "markdown",
   "metadata": {
    "_cell_guid": "228eec75-5856-5411-7e59-a4d419c2e520"
   },
   "source": [
    "###Lets start with Importing Libraries and data"
   ]
  },
  {
   "cell_type": "code",
   "execution_count": 2,
   "metadata": {
    "_cell_guid": "7acc51d2-e9db-908f-9b91-386e23629483",
    "collapsed": false
   },
   "outputs": [
    {
     "name": "stderr",
     "output_type": "stream",
     "text": [
      "/home/leshare/softwares/anaconda2/lib/python2.7/site-packages/sklearn/cross_validation.py:41: DeprecationWarning: This module was deprecated in version 0.18 in favor of the model_selection module into which all the refactored classes and functions are moved. Also note that the interface of the new CV iterators are different from that of this module. This module will be removed in 0.20.\n",
      "  \"This module will be removed in 0.20.\", DeprecationWarning)\n"
     ]
    }
   ],
   "source": [
    "import pandas as pd # to import csv and for data manipulation\n",
    "import matplotlib.pyplot as plt # to plot graph\n",
    "import numpy as np # for linear algebra\n",
    "import datetime # to dela with date and time\n",
    "%matplotlib inline\n",
    "from sklearn.preprocessing import StandardScaler # for preprocessing the data\n",
    "from sklearn.ensemble import RandomForestClassifier # Random forest classifier\n",
    "from sklearn.tree import DecisionTreeClassifier # for Decision Tree classifier\n",
    "from sklearn.svm import LinearSVC as SVC # for SVM classification\n",
    "from sklearn.linear_model import LogisticRegression\n",
    "from sklearn.cross_validation import train_test_split # to split the data\n",
    "from sklearn.cross_validation import KFold # For cross vbalidation\n",
    "from sklearn.model_selection import GridSearchCV # for tunnig hyper parameter it will use all combination of given parameters\n",
    "from sklearn.model_selection import RandomizedSearchCV # same for tunning hyper parameter but will use random combinations of parameters\n",
    "from sklearn.metrics import confusion_matrix,recall_score,precision_recall_curve,auc,roc_curve,roc_auc_score,classification_report\n",
    "from imblearn.pipeline import make_pipeline\n",
    "import warnings\n",
    "warnings.filterwarnings('ignore')"
   ]
  },
  {
   "cell_type": "code",
   "execution_count": 3,
   "metadata": {
    "_cell_guid": "83f83459-d9f6-e2fd-9d11-77ee19a48ff0",
    "collapsed": false
   },
   "outputs": [],
   "source": [
    "data = pd.read_csv(\"../data/real/page.dat\",header = 0)"
   ]
  },
  {
   "cell_type": "code",
   "execution_count": 4,
   "metadata": {
    "_cell_guid": "8c79df42-9432-e39e-cb27-6c53245f9ac5",
    "collapsed": false
   },
   "outputs": [
    {
     "name": "stdout",
     "output_type": "stream",
     "text": [
      "('percentage of normal transacation is', 89.7843567251462)\n",
      "('percentage of fraud transacation', 10.215643274853802)\n"
     ]
    }
   ],
   "source": [
    "# now let us check in the number of Percentage\n",
    "data['Class'][data['Class']=='positive'] = 1\n",
    "data['Class'][data['Class']=='negative'] = 0\n",
    "Count_Normal_transacation = len(data[data[\"Class\"]==0]) \n",
    "Count_Fraud_transacation = len(data[data[\"Class\"]==1]) \n",
    "Percentage_of_Normal_transacation = 1.*Count_Normal_transacation/(Count_Normal_transacation+Count_Fraud_transacation)\n",
    "print(\"percentage of normal transacation is\",Percentage_of_Normal_transacation*100)\n",
    "Percentage_of_Fraud_transacation= 1.*Count_Fraud_transacation/(Count_Normal_transacation+Count_Fraud_transacation)\n",
    "print(\"percentage of fraud transacation\",Percentage_of_Fraud_transacation*100)"
   ]
  },
  {
   "cell_type": "code",
   "execution_count": 5,
   "metadata": {
    "_cell_guid": "12f3b2ed-4231-cddc-9959-d13491af2497",
    "collapsed": false
   },
   "outputs": [],
   "source": [
    "from sklearn.metrics import accuracy_score, make_scorer\n",
    "from sklearn.metrics import precision_recall_curve, auc, f1_score, precision_recall_fscore_support\n",
    "from imblearn.metrics import geometric_mean_score\n",
    "\n",
    "def evaluate_auc_prc(y, pred):\n",
    "    precision, recall, thresholds = precision_recall_curve(y, pred)\n",
    "    aucprc = auc(recall, precision)\n",
    "    return aucprc\n",
    "\n",
    "\n",
    "def evaluate_f1(y, y_pred, pos_label=1):\n",
    "    precision, recall, f1, support = precision_recall_fscore_support(y, y_pred, pos_label=1)\n",
    "    #print classification_report(y, y_pred)\n",
    "    return f1[1]\n",
    "\n",
    "def evaluate_kappa(y, y_pred):\n",
    "    reward = confusion_matrix(y, y_pred)\n",
    "    N = reward.sum()\n",
    "    po = 1.*(reward[0][0]+reward[1][1])/N\n",
    "    py = 1.*(reward[0][0]+reward[0][1])*(reward[0][0]+reward[1][0])/N/N\n",
    "    pn = 1.*(reward[1][0]+reward[1][1])*(reward[0][1]+reward[1][1])/N/N\n",
    "    pe = py+pn\n",
    "    kappa = (po-pe)/(1-pe)\n",
    "    return kappa\n",
    "\n",
    "aucprc_score = make_scorer(evaluate_auc_prc, greater_is_better=True)\n",
    "\n",
    "gms = make_scorer(geometric_mean_score, greater_is_better=True)\n",
    "\n",
    "f1_scorer = make_scorer(evaluate_f1, greater_is_better=True)\n",
    "\n",
    "kappa_scorer = make_scorer(evaluate_kappa, greater_is_better=True)\n",
    "\n",
    "def data_split(x, test_size=0.4, seed=1): # preparing data for training and testing as we are going to use different data \n",
    "    #again and again so make a function\n",
    "    x_features= x.ix[:,x.columns != \"Class\"]\n",
    "    x_labels=x.ix[:,x.columns==\"Class\"]\n",
    "    x_features_train,x_features_test,x_labels_train,x_labels_test = train_test_split(x_features,x_labels,\n",
    "                                                                                     test_size=test_size, \n",
    "                                                                                     random_state=seed)\n",
    "    x_features_train.index = np.arange(len(x_features_train))\n",
    "    x_labels_train.index = np.arange(len(x_labels_train))\n",
    "    x_features_test.index = np.arange(len(x_features_test))\n",
    "    x_labels_test.index = np.arange(len(x_labels_test))\n",
    "    print(\"length of training data\")\n",
    "    print(len(x_features_train))\n",
    "    print(\"length of test data\")\n",
    "    print(len(x_features_test))\n",
    "    return(x_features_train,x_features_test,x_labels_train,x_labels_test)"
   ]
  },
  {
   "cell_type": "code",
   "execution_count": 6,
   "metadata": {
    "_cell_guid": "8c5529ce-71ca-b24b-b544-e3d1443115f9",
    "collapsed": false
   },
   "outputs": [],
   "source": [
    "# before starting we should standridze \n",
    "from sklearn.preprocessing import RobustScaler\n",
    "y = data['Class'].values\n",
    "X = data.drop(['Class'], axis=1).values\n",
    "scalar = RobustScaler()\n",
    "X = scalar.fit_transform(X)\n",
    "x_train = X\n",
    "y_train = y.astype('int32')\n",
    "idxes = np.arange(len(x_train))\n",
    "np.random.seed(1234)\n",
    "x_train = x_train[idxes]\n",
    "y_train = y_train[idxes]"
   ]
  },
  {
   "cell_type": "code",
   "execution_count": 8,
   "metadata": {
    "collapsed": true
   },
   "outputs": [],
   "source": [
    "import pickle\n",
    "pickle.dump({'x':x_train, 'y':np.eye(2)[y_train.astype('int32')]}, open('../data/real/page/train.pkl', 'wb+'))"
   ]
  },
  {
   "cell_type": "code",
   "execution_count": 7,
   "metadata": {
    "collapsed": false
   },
   "outputs": [],
   "source": [
    "from sklearn.neural_network import MLPClassifier as MLP\n",
    "from sklearn.linear_model import LogisticRegression as LR\n",
    "from sklearn.svm import LinearSVC as SVM\n",
    "from sklearn.neighbors import KNeighborsClassifier as KNN\n",
    "from sklearn.tree import DecisionTreeClassifier as DT\n",
    "from time import time"
   ]
  },
  {
   "cell_type": "code",
   "execution_count": 15,
   "metadata": {
    "collapsed": false
   },
   "outputs": [
    {
     "name": "stdout",
     "output_type": "stream",
     "text": [
      "best_c for LR:1.0\n",
      "best_reward for LR:0.658655345844\n",
      "best_c for SVM:1.0\n",
      "best_reward for SVM:0.674569716744\n",
      "best_c for SVC:10.0\n",
      "best_reward for SVC:0.763492154926\n",
      "best_c for DT:6\n",
      "best_reward DT:0.763783766613\n",
      "best_c for KNN:3\n",
      "best_reward KNN:0.736692529755\n",
      "best_c for MLP:7\n",
      "best_reward MLP:0.765621885002\n"
     ]
    }
   ],
   "source": [
    "# Choose classifer with cross validation\n",
    "# Supervised Model: LR, SVM (linear), SVM (rbf), DT, KNN, MLP\n",
    "# Dataset: original\n",
    "from sklearn.neural_network import MLPClassifier as MLP\n",
    "from sklearn.model_selection import cross_val_score\n",
    "from sklearn.svm import SVC\n",
    "from sklearn.metrics import matthews_corrcoef\n",
    "\n",
    "# LR\n",
    "best_c = 0\n",
    "best_reward = 0\n",
    "for c in [1e-3, 1e-2, 1e-1, 1e0, 1e1, 1e2, 1e3]:\n",
    "    clf = LR(C=c, random_state=0)\n",
    "    reward = np.array(cross_val_score(clf, x_train, y_train, cv=5, n_jobs=5, scoring=make_scorer(matthews_corrcoef))).mean()\n",
    "    if reward > best_reward:\n",
    "        best_reward = reward\n",
    "        best_c = c\n",
    "print 'best_c for LR:{}'.format(best_c)\n",
    "print 'best_reward for LR:{}'.format(best_reward)\n",
    "\n",
    "# SVM (linear)\n",
    "best_c = 0\n",
    "best_reward = 0\n",
    "for c in [1e-3, 1e-2, 1e-1, 1e0, 1e1, 1e2, 1e3]:\n",
    "    clf = SVM(C=c, random_state=0)\n",
    "    reward = np.array(cross_val_score(clf, x_train, y_train, cv=5, n_jobs=5, scoring=make_scorer(matthews_corrcoef))).mean()\n",
    "    if reward > best_reward:\n",
    "        best_reward = reward\n",
    "        best_c = c\n",
    "print 'best_c for SVM:{}'.format(best_c)\n",
    "print 'best_reward for SVM:{}'.format(best_reward)\n",
    "\n",
    "# SVM (rbf)\n",
    "best_c = 0\n",
    "best_reward = 0\n",
    "for c in [1e-3, 1e-2, 1e-1, 1e0, 1e1, 1e2, 1e3]:\n",
    "    clf = SVC(C=c, kernel='rbf', random_state=0)\n",
    "    reward = np.array(cross_val_score(clf, x_train, y_train, cv=5, n_jobs=5, scoring=make_scorer(matthews_corrcoef))).mean()\n",
    "    if reward > best_reward:\n",
    "        best_reward = reward\n",
    "        best_c = c\n",
    "print 'best_c for SVC:{}'.format(best_c)\n",
    "print 'best_reward for SVC:{}'.format(best_reward)\n",
    "\n",
    "# DT \n",
    "best_c = 0\n",
    "best_reward = 0\n",
    "for c in [1, 2, 3, 4, 5, 6, 7, 8]:\n",
    "    clf = DT(max_depth=c, random_state=0)\n",
    "    reward = np.array(cross_val_score(clf, x_train, y_train, cv=5, n_jobs=5, scoring=make_scorer(matthews_corrcoef))).mean()\n",
    "    if reward > best_reward:\n",
    "        best_reward = reward\n",
    "        best_c = c\n",
    "print 'best_c for DT:{}'.format(best_c)\n",
    "print 'best_reward DT:{}'.format(best_reward)\n",
    "\n",
    "# KNN \n",
    "best_c = 0\n",
    "best_reward = 0\n",
    "for c in [1, 2, 3, 4, 5, 6, 7, 8]:\n",
    "    clf = KNN(n_neighbors=c)\n",
    "    reward = np.array(cross_val_score(clf, x_train, y_train, cv=5, n_jobs=5, scoring=make_scorer(matthews_corrcoef))).mean()\n",
    "    if reward > best_reward:\n",
    "        best_reward = reward\n",
    "        best_c = c\n",
    "print 'best_c for KNN:{}'.format(best_c)\n",
    "print 'best_reward KNN:{}'.format(best_reward)\n",
    "\n",
    "# MLP \n",
    "best_c = 0\n",
    "best_reward = 0\n",
    "for c in [1, 2, 3, 4, 5, 6, 7, 8]:\n",
    "    clf = MLP(hidden_layer_sizes=[5, c], random_state=0)\n",
    "    reward = np.array(cross_val_score(clf, x_train, y_train, cv=5, n_jobs=5, scoring=make_scorer(matthews_corrcoef))).mean()\n",
    "    if reward > best_reward:\n",
    "        best_reward = reward\n",
    "        best_c = c\n",
    "print 'best_c for MLP:{}'.format(best_c)\n",
    "print 'best_reward MLP:{}'.format(best_reward)"
   ]
  },
  {
   "cell_type": "code",
   "execution_count": 11,
   "metadata": {
    "collapsed": false
   },
   "outputs": [
    {
     "name": "stdout",
     "output_type": "stream",
     "text": [
      "best_c for MLP:8\n",
      "best_reward MLP:0.862691026972\n"
     ]
    }
   ],
   "source": [
    "# MLP \n",
    "best_c = 0\n",
    "best_reward = 0\n",
    "for c in [1, 2, 3, 4, 5, 6, 7, 8]:\n",
    "    clf = MLP(hidden_layer_sizes=[5, 5, c], random_state=0)\n",
    "    reward = np.array(cross_val_score(clf, x_train, y_train, cv=5, n_jobs=5, scoring=gms)).mean()\n",
    "    if reward > best_reward:\n",
    "        best_reward = reward\n",
    "        best_c = c\n",
    "print 'best_c for MLP:{}'.format(best_c)\n",
    "print 'best_reward MLP:{}'.format(best_reward)"
   ]
  },
  {
   "cell_type": "code",
   "execution_count": 137,
   "metadata": {
    "collapsed": false,
    "scrolled": true
   },
   "outputs": [
    {
     "name": "stdout",
     "output_type": "stream",
     "text": [
      "c:0.01\n",
      "[ 0.83371375  0.86045259  0.86075788  0.84663623  0.79454812]\n",
      "[ 0.89685119  0.88444035  0.89617762  0.88781452  0.90061675]\n",
      "best_c:0.01\n",
      "best_reward:0.839221713747\n",
      "best_train_reward:0.893180085574\n"
     ]
    }
   ],
   "source": [
    "# Choose hyper-parameters with cross validation\n",
    "# Supervised Model: SVM\n",
    "# Dataset: original\n",
    "from sklearn.neural_network import MLPClassifier\n",
    "from sklearn.model_selection import cross_val_score, cross_validate\n",
    "from sklearn.svm import SVC\n",
    "from sklearn.metrics import matthews_corrcoef\n",
    "\n",
    "idxes = np.arange(len(x_train))\n",
    "np.random.seed(1234)\n",
    "np.random.shuffle(idxes)\n",
    "best_c = 0\n",
    "best_reward = 0\n",
    "best_train_reward = 0\n",
    "for c in [1e2]:\n",
    "    clf = SVC(C=c, kernel='rbf', random_state=0, gamma=1e-2)\n",
    "    rewards = cross_validate(clf, x_train[idxes], y_train[idxes], cv=5, n_jobs=5, \n",
    "                             scoring=make_scorer(matthews_corrcoef))\n",
    "    train_reward = np.array(rewards['train_score']).mean()\n",
    "    reward = np.array(rewards['test_score']).mean()\n",
    "    if reward > best_reward:\n",
    "        best_reward = reward\n",
    "        best_train_reward = train_reward\n",
    "        best_c = c\n",
    "print 'best_c:{}'.format(best_c)\n",
    "print 'best_reward:{}'.format(best_reward)\n",
    "print 'best_train_reward:{}'.format(best_train_reward)"
   ]
  },
  {
   "cell_type": "code",
   "execution_count": 19,
   "metadata": {
    "collapsed": false
   },
   "outputs": [
    {
     "name": "stdout",
     "output_type": "stream",
     "text": [
      "reward on original dataset:0.897875942041\n"
     ]
    }
   ],
   "source": [
    "# Performance on original dataset with the chosen model.\n",
    "clf = SVC(C=1e2, kernel='rbf',random_state=0, gamma=1e-2)\n",
    "clf.fit(x_train, y_train)\n",
    "preds = clf.predict(x_train)\n",
    "reward = matthews_corrcoef(y_train, preds)\n",
    "print 'reward on original dataset:{}'.format(reward)"
   ]
  },
  {
   "cell_type": "code",
   "execution_count": 148,
   "metadata": {
    "collapsed": false
   },
   "outputs": [],
   "source": [
    "# Choose under-sampling ratio for different under-sampling methods\n",
    "# Supervised Model: SVC(C=1e2, kernel='rbf',random_state=0, gamma=1e-2)\n",
    "# Under sampling methods: Random, ENN, Cluster, TomekLinks, ALLKNN\n",
    "from imblearn.under_sampling import (NearMiss, RandomUnderSampler, EditedNearestNeighbours, \n",
    "                                     CondensedNearestNeighbour, ClusterCentroids, TomekLinks,\n",
    "                                     RepeatedEditedNearestNeighbours, AllKNN)\n",
    "from imblearn.pipeline import make_pipeline\n",
    "from collections import Counter\n",
    "\n",
    "\n",
    "train_x = x_train\n",
    "train_y = y_train\n",
    "pos_num = (train_y == 1).sum()\n",
    "neg_num = (train_y == 0).sum()\n",
    "\n",
    "for sampler, name, time in zip([ClusterCentroids, RandomUnderSampler, EditedNearestNeighbours, TomekLinks, AllKNN],\n",
    "                         ['Cluster', 'Random', 'ENN', 'TomekLinks', 'ALLKNN'], [1, 50, 1, 1, 1]):\n",
    "    break\n",
    "    max_i = 1\n",
    "    best_reward = -1\n",
    "    for i in np.arange(1, 1.0*neg_num/pos_num, 0.2):\n",
    "        sample = sampler(ratio={0:int(i*pos_num)})\n",
    "        train_x_s, train_y_s = sample.fit_sample(train_x, train_y)\n",
    "        clf.fit(train_x_s, train_y_s)\n",
    "        preds = clf.predict(train_x)\n",
    "        reward = matthews_corrcoef(train_y, preds)\n",
    "        if best_reward < reward:\n",
    "            best_reward = reward    \n",
    "            max_i = i\n",
    "    print 'best under-sampling ratio with {}:{}'.format(name, max_i)\n",
    "    if time == 0:\n",
    "        print 'best reward with {}:{}'.format(name, best_reward)\n",
    "        continue\n",
    "    \n",
    "    best_reward = 0\n",
    "    for i in np.arange(time):\n",
    "        sample = sampler(ratio={0:int(max_i*pos_num)})\n",
    "        train_x_s, train_y_s = sample.fit_sample(train_x, train_y)\n",
    "        clf.fit(train_x_s, train_y_s)\n",
    "        preds = clf.predict(train_x)\n",
    "        reward = matthews_corrcoef(train_y, preds)\n",
    "        if best_reward < reward:\n",
    "            best_reward = reward    \n",
    "    print 'best reward with {}:{}'.format(name, best_reward)"
   ]
  },
  {
   "cell_type": "code",
   "execution_count": 21,
   "metadata": {
    "collapsed": false
   },
   "outputs": [
    {
     "name": "stdout",
     "output_type": "stream",
     "text": [
      "best under-sampling ratio for EasyEnsemble:7.6\n",
      "best reward for EasyEnsemble:0.903736955814\n"
     ]
    }
   ],
   "source": [
    "# Perform EasyEnsemble and BalanceCascade\n",
    "from imblearn.ensemble import EasyEnsemble, BalanceCascade\n",
    "\n",
    "train_x = x_train\n",
    "train_y = y_train\n",
    "pos_num = (train_y == 1).sum()\n",
    "neg_num = (train_y == 0).sum()\n",
    "\n",
    "for sampler, name in zip([EasyEnsemble, BalanceCascade],\n",
    "                         ['EasyEnsemble']):\n",
    "    max_i = 1\n",
    "    best_reward = -1\n",
    "    for i in np.arange(1, 1.0*neg_num/pos_num, 0.2):\n",
    "        sample = sampler(ratio={0:int(i*pos_num)}, replacement=False, n_subsets=10)\n",
    "        train_x_s, train_y_s = sample.fit_sample(x_train, y_train)\n",
    "        preds = None\n",
    "        for x, y in zip(train_x_s, train_y_s):\n",
    "            clf.fit(x, y)\n",
    "            if preds is None:\n",
    "                preds = clf.predict(train_x)\n",
    "            else:\n",
    "                preds += clf.predict(train_x)\n",
    "        preds = (preds >= ((len(train_x_s)+1)/2)).astype('int32')\n",
    "        reward = matthews_corrcoef(train_y, preds)\n",
    "        if best_reward < reward:\n",
    "            best_reward = reward    \n",
    "            max_i = i\n",
    "    print 'best under-sampling ratio for {}:{}'.format(name, max_i)\n",
    "    print 'best reward for {}:{}'.format(name, best_reward)\n"
   ]
  },
  {
   "cell_type": "markdown",
   "metadata": {
    "_cell_guid": "651a09d1-bc75-e3bf-7c7f-743b832bbd05"
   },
   "source": [
    "## First over sampling than down sampling"
   ]
  },
  {
   "cell_type": "code",
   "execution_count": 156,
   "metadata": {
    "collapsed": false
   },
   "outputs": [
    {
     "name": "stdout",
     "output_type": "stream",
     "text": [
      "best over-sampling ratio with RandomOverSampler:2.0\n",
      "best reward with RandomOverSampler:0.899958128481\n",
      "best over-sampling ratio with SMOTE:1.5\n",
      "best reward with SMOTE:0.90177586827\n",
      "best over-sampling ratio with ADASYN:1.0\n",
      "best reward with ADASYN:0.897875942041\n"
     ]
    }
   ],
   "source": [
    "# Choose over-sampling ratio for different orver-sampling methods\n",
    "# Supervised Model: SVM(C=1e2, kernel='rbf', random_state=0)\n",
    "# Over sampling methods: Random, SMOTE, ADASYN\n",
    "from imblearn.over_sampling import RandomOverSampler, SMOTE, ADASYN\n",
    "from imblearn.pipeline import make_pipeline\n",
    "from collections import Counter\n",
    "\n",
    "for sampler, name, time in zip([RandomOverSampler, SMOTE, ADASYN],\n",
    "                         ['RandomOverSampler', 'SMOTE', 'ADASYN'], [10, 10, 10]):\n",
    "    max_i = 1\n",
    "    best_reward = -1\n",
    "    for i in np.arange(1, 1.0*neg_num/pos_num, 0.5):\n",
    "        sample = sampler(ratio={1:int(i*pos_num)})\n",
    "        train_x_s, train_y_s = sample.fit_sample(train_x, train_y)\n",
    "        clf.fit(train_x_s, train_y_s)\n",
    "        preds = clf.predict(train_x)\n",
    "        reward = matthews_corrcoef(train_y, preds)\n",
    "        if best_reward < reward:\n",
    "            best_reward = reward    \n",
    "            max_i = i\n",
    "    print 'best over-sampling ratio with {}:{}'.format(name, max_i)\n",
    "    best_reward = 0\n",
    "    bset_set = None\n",
    "    for i in np.arange(time):\n",
    "        sample = sampler(ratio={1:int(max_i*pos_num)})\n",
    "        train_x_s, train_y_s = sample.fit_sample(train_x, train_y)\n",
    "        clf.fit(train_x_s, train_y_s)\n",
    "        preds = clf.predict(train_x)\n",
    "        reward = matthews_corrcoef(train_y, preds)\n",
    "        if best_reward < reward:\n",
    "            best_reward = reward   \n",
    "            bset_set = (train_x_s, train_y_s)\n",
    "    print 'best reward with {}:{}'.format(name, best_reward)\n",
    "    pickle.dump({'x':bset_set[0], 'y':np.eye(2)[bset_set[1].astype('int32')]}, open('../data/real/page/train_{}.pkl'.format(name), 'wb+'))\n",
    "    "
   ]
  }
 ],
 "metadata": {
  "_change_revision": 0,
  "_is_fork": false,
  "anaconda-cloud": {},
  "kernelspec": {
   "display_name": "Python [Root]",
   "language": "python",
   "name": "Python [Root]"
  },
  "language_info": {
   "codemirror_mode": {
    "name": "ipython",
    "version": 2
   },
   "file_extension": ".py",
   "mimetype": "text/x-python",
   "name": "python",
   "nbconvert_exporter": "python",
   "pygments_lexer": "ipython2",
   "version": "2.7.12"
  }
 },
 "nbformat": 4,
 "nbformat_minor": 0
}
